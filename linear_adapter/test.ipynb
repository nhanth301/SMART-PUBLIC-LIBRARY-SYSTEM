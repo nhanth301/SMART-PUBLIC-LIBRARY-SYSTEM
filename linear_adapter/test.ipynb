{
 "cells": [
  {
   "cell_type": "code",
   "execution_count": 36,
   "metadata": {},
   "outputs": [],
   "source": [
    "import random\n",
    "import torch\n",
    "from torch import nn\n",
    "from torch.utils.data import Dataset, DataLoader\n",
    "from torch.optim import AdamW\n",
    "from torch.optim.lr_scheduler import LambdaLR\n",
    "from torch.nn.utils import clip_grad_norm_\n",
    "import torch.nn.functional as F\n",
    "import pandas as pd\n",
    "import json\n",
    "import matplotlib.pyplot as plt\n",
    "import numpy as np"
   ]
  },
  {
   "cell_type": "code",
   "execution_count": 37,
   "metadata": {},
   "outputs": [],
   "source": [
    "df = pd.read_csv('triplet.csv')"
   ]
  },
  {
   "cell_type": "code",
   "execution_count": 38,
   "metadata": {},
   "outputs": [],
   "source": [
    "df['anchor'] = df['anchor'].apply(lambda x: torch.tensor(json.loads(x)))\n",
    "df['pos'] = df['pos'].apply(lambda x: torch.tensor(json.loads(x)))\n",
    "df['neg'] = df['neg'].apply(lambda x: torch.tensor(json.loads(x)))\n",
    "\n",
    "df['distance_pos'] = df.apply(lambda row: 1.0 - F.cosine_similarity(row['anchor'], row['pos'], dim=0).item(), axis=1)\n",
    "df['distance_neg'] = df.apply(lambda row: 1.0 - F.cosine_similarity(row['anchor'], row['neg'], dim=0).item() , axis=1)"
   ]
  },
  {
   "cell_type": "code",
   "execution_count": 39,
   "metadata": {},
   "outputs": [],
   "source": [
    "df.drop(['Unnamed: 0'],axis=1,inplace=True)"
   ]
  },
  {
   "cell_type": "code",
   "execution_count": 40,
   "metadata": {},
   "outputs": [
    {
     "data": {
      "text/html": [
       "<div>\n",
       "<style scoped>\n",
       "    .dataframe tbody tr th:only-of-type {\n",
       "        vertical-align: middle;\n",
       "    }\n",
       "\n",
       "    .dataframe tbody tr th {\n",
       "        vertical-align: top;\n",
       "    }\n",
       "\n",
       "    .dataframe thead th {\n",
       "        text-align: right;\n",
       "    }\n",
       "</style>\n",
       "<table border=\"1\" class=\"dataframe\">\n",
       "  <thead>\n",
       "    <tr style=\"text-align: right;\">\n",
       "      <th></th>\n",
       "      <th>anchor</th>\n",
       "      <th>pos</th>\n",
       "      <th>neg</th>\n",
       "      <th>distance_pos</th>\n",
       "      <th>distance_neg</th>\n",
       "    </tr>\n",
       "  </thead>\n",
       "  <tbody>\n",
       "    <tr>\n",
       "      <th>0</th>\n",
       "      <td>[tensor(0.0137), tensor(-0.0254), tensor(0.052...</td>\n",
       "      <td>[tensor(-0.0159), tensor(-0.0480), tensor(0.05...</td>\n",
       "      <td>[tensor(-0.0017), tensor(-0.0277), tensor(0.04...</td>\n",
       "      <td>0.227689</td>\n",
       "      <td>0.193694</td>\n",
       "    </tr>\n",
       "    <tr>\n",
       "      <th>1</th>\n",
       "      <td>[tensor(-0.0219), tensor(-0.0300), tensor(0.04...</td>\n",
       "      <td>[tensor(-0.0159), tensor(-0.0480), tensor(0.05...</td>\n",
       "      <td>[tensor(0.0164), tensor(-0.0345), tensor(0.028...</td>\n",
       "      <td>0.253759</td>\n",
       "      <td>0.142795</td>\n",
       "    </tr>\n",
       "    <tr>\n",
       "      <th>2</th>\n",
       "      <td>[tensor(0.0122), tensor(-0.0277), tensor(0.049...</td>\n",
       "      <td>[tensor(-0.0486), tensor(-0.0668), tensor(0.08...</td>\n",
       "      <td>[tensor(-0.0014), tensor(-0.0308), tensor(0.06...</td>\n",
       "      <td>0.307285</td>\n",
       "      <td>0.171227</td>\n",
       "    </tr>\n",
       "    <tr>\n",
       "      <th>3</th>\n",
       "      <td>[tensor(-0.0180), tensor(-0.0444), tensor(0.03...</td>\n",
       "      <td>[tensor(-0.0486), tensor(-0.0668), tensor(0.08...</td>\n",
       "      <td>[tensor(-0.0326), tensor(-0.0536), tensor(0.05...</td>\n",
       "      <td>0.225380</td>\n",
       "      <td>0.198195</td>\n",
       "    </tr>\n",
       "    <tr>\n",
       "      <th>4</th>\n",
       "      <td>[tensor(-0.0038), tensor(-0.0525), tensor(0.06...</td>\n",
       "      <td>[tensor(-0.0486), tensor(-0.0668), tensor(0.08...</td>\n",
       "      <td>[tensor(0.0042), tensor(-0.0550), tensor(0.018...</td>\n",
       "      <td>0.297195</td>\n",
       "      <td>0.161455</td>\n",
       "    </tr>\n",
       "  </tbody>\n",
       "</table>\n",
       "</div>"
      ],
      "text/plain": [
       "                                              anchor  \\\n",
       "0  [tensor(0.0137), tensor(-0.0254), tensor(0.052...   \n",
       "1  [tensor(-0.0219), tensor(-0.0300), tensor(0.04...   \n",
       "2  [tensor(0.0122), tensor(-0.0277), tensor(0.049...   \n",
       "3  [tensor(-0.0180), tensor(-0.0444), tensor(0.03...   \n",
       "4  [tensor(-0.0038), tensor(-0.0525), tensor(0.06...   \n",
       "\n",
       "                                                 pos  \\\n",
       "0  [tensor(-0.0159), tensor(-0.0480), tensor(0.05...   \n",
       "1  [tensor(-0.0159), tensor(-0.0480), tensor(0.05...   \n",
       "2  [tensor(-0.0486), tensor(-0.0668), tensor(0.08...   \n",
       "3  [tensor(-0.0486), tensor(-0.0668), tensor(0.08...   \n",
       "4  [tensor(-0.0486), tensor(-0.0668), tensor(0.08...   \n",
       "\n",
       "                                                 neg  distance_pos  \\\n",
       "0  [tensor(-0.0017), tensor(-0.0277), tensor(0.04...      0.227689   \n",
       "1  [tensor(0.0164), tensor(-0.0345), tensor(0.028...      0.253759   \n",
       "2  [tensor(-0.0014), tensor(-0.0308), tensor(0.06...      0.307285   \n",
       "3  [tensor(-0.0326), tensor(-0.0536), tensor(0.05...      0.225380   \n",
       "4  [tensor(0.0042), tensor(-0.0550), tensor(0.018...      0.297195   \n",
       "\n",
       "   distance_neg  \n",
       "0      0.193694  \n",
       "1      0.142795  \n",
       "2      0.171227  \n",
       "3      0.198195  \n",
       "4      0.161455  "
      ]
     },
     "execution_count": 40,
     "metadata": {},
     "output_type": "execute_result"
    }
   ],
   "source": [
    "df.head()"
   ]
  },
  {
   "cell_type": "code",
   "execution_count": 41,
   "metadata": {},
   "outputs": [],
   "source": [
    "class LinearAdapter(nn.Module):\n",
    "    def __init__(self, input_dim):\n",
    "        super().__init__()\n",
    "        self.linear = nn.Linear(input_dim, input_dim)\n",
    "    \n",
    "    def forward(self, x):\n",
    "        return self.linear(x)"
   ]
  },
  {
   "cell_type": "code",
   "execution_count": null,
   "metadata": {},
   "outputs": [
    {
     "name": "stderr",
     "output_type": "stream",
     "text": [
      "/tmp/ipykernel_61186/3994794865.py:1: FutureWarning: You are using `torch.load` with `weights_only=False` (the current default value), which uses the default pickle module implicitly. It is possible to construct malicious pickle data which will execute arbitrary code during unpickling (See https://github.com/pytorch/pytorch/blob/main/SECURITY.md#untrusted-models for more details). In a future release, the default value for `weights_only` will be flipped to `True`. This limits the functions that could be executed during unpickling. Arbitrary objects will no longer be allowed to be loaded via this mode unless they are explicitly allowlisted by the user via `torch.serialization.add_safe_globals`. We recommend you start setting `weights_only=True` for any use case where you don't have full control of the loaded file. Please open an issue on GitHub for any issues related to this experimental feature.\n",
      "  load_dict = torch.load('non_linear_adapter_30_epochs.pth')\n"
     ]
    },
    {
     "data": {
      "text/plain": [
       "<All keys matched successfully>"
      ]
     },
     "execution_count": 42,
     "metadata": {},
     "output_type": "execute_result"
    }
   ],
   "source": [
    "load_dict = torch.load('adapter.pth')\n",
    "loaded_adapter = LinearAdapter(768)\n",
    "loaded_adapter.load_state_dict(load_dict['adapter_state_dict'])\n",
    "loaded_adapter.eval()"
   ]
  },
  {
   "cell_type": "code",
   "execution_count": 43,
   "metadata": {},
   "outputs": [],
   "source": [
    "df['adapted_distance_pos'] = df.apply(lambda row: 1.0 - F.cosine_similarity(loaded_adapter(row['anchor']), loaded_adapter(row['pos']), dim=0).item(), axis=1)\n",
    "df['adapted_distance_neg'] = df.apply(lambda row: 1.0 - F.cosine_similarity(loaded_adapter(row['anchor']), loaded_adapter(row['neg']), dim=0).item() , axis=1)"
   ]
  },
  {
   "cell_type": "code",
   "execution_count": 48,
   "metadata": {},
   "outputs": [],
   "source": [
    "result = df[[\"distance_pos\", \"distance_neg\", \"adapted_distance_pos\", \"adapted_distance_neg\"]]"
   ]
  },
  {
   "cell_type": "code",
   "execution_count": 52,
   "metadata": {},
   "outputs": [
    {
     "name": "stderr",
     "output_type": "stream",
     "text": [
      "/tmp/ipykernel_61186/2526936484.py:1: SettingWithCopyWarning: \n",
      "A value is trying to be set on a copy of a slice from a DataFrame.\n",
      "Try using .loc[row_indexer,col_indexer] = value instead\n",
      "\n",
      "See the caveats in the documentation: https://pandas.pydata.org/pandas-docs/stable/user_guide/indexing.html#returning-a-view-versus-a-copy\n",
      "  result[\"res\"] = result.apply(lambda row: 1 if row[\"adapted_distance_pos\"] < row[\"adapted_distance_neg\"] else 0, axis=1)\n"
     ]
    }
   ],
   "source": [
    "result[\"res\"] = result.apply(lambda row: 1 if row[\"adapted_distance_pos\"] < row[\"adapted_distance_neg\"] else 0, axis=1)"
   ]
  },
  {
   "cell_type": "code",
   "execution_count": 53,
   "metadata": {},
   "outputs": [
    {
     "data": {
      "text/html": [
       "<div>\n",
       "<style scoped>\n",
       "    .dataframe tbody tr th:only-of-type {\n",
       "        vertical-align: middle;\n",
       "    }\n",
       "\n",
       "    .dataframe tbody tr th {\n",
       "        vertical-align: top;\n",
       "    }\n",
       "\n",
       "    .dataframe thead th {\n",
       "        text-align: right;\n",
       "    }\n",
       "</style>\n",
       "<table border=\"1\" class=\"dataframe\">\n",
       "  <thead>\n",
       "    <tr style=\"text-align: right;\">\n",
       "      <th></th>\n",
       "      <th>distance_pos</th>\n",
       "      <th>distance_neg</th>\n",
       "      <th>adapted_distance_pos</th>\n",
       "      <th>adapted_distance_neg</th>\n",
       "      <th>res</th>\n",
       "    </tr>\n",
       "  </thead>\n",
       "  <tbody>\n",
       "    <tr>\n",
       "      <th>0</th>\n",
       "      <td>0.227689</td>\n",
       "      <td>0.193694</td>\n",
       "      <td>0.737273</td>\n",
       "      <td>1.829253</td>\n",
       "      <td>1</td>\n",
       "    </tr>\n",
       "    <tr>\n",
       "      <th>1</th>\n",
       "      <td>0.253759</td>\n",
       "      <td>0.142795</td>\n",
       "      <td>0.181191</td>\n",
       "      <td>1.394231</td>\n",
       "      <td>1</td>\n",
       "    </tr>\n",
       "    <tr>\n",
       "      <th>2</th>\n",
       "      <td>0.307285</td>\n",
       "      <td>0.171227</td>\n",
       "      <td>0.480764</td>\n",
       "      <td>1.759256</td>\n",
       "      <td>1</td>\n",
       "    </tr>\n",
       "    <tr>\n",
       "      <th>3</th>\n",
       "      <td>0.225380</td>\n",
       "      <td>0.198195</td>\n",
       "      <td>0.572937</td>\n",
       "      <td>1.661588</td>\n",
       "      <td>1</td>\n",
       "    </tr>\n",
       "    <tr>\n",
       "      <th>4</th>\n",
       "      <td>0.297195</td>\n",
       "      <td>0.161455</td>\n",
       "      <td>0.694121</td>\n",
       "      <td>1.839455</td>\n",
       "      <td>1</td>\n",
       "    </tr>\n",
       "    <tr>\n",
       "      <th>...</th>\n",
       "      <td>...</td>\n",
       "      <td>...</td>\n",
       "      <td>...</td>\n",
       "      <td>...</td>\n",
       "      <td>...</td>\n",
       "    </tr>\n",
       "    <tr>\n",
       "      <th>206</th>\n",
       "      <td>0.246686</td>\n",
       "      <td>0.114108</td>\n",
       "      <td>0.823098</td>\n",
       "      <td>1.875909</td>\n",
       "      <td>1</td>\n",
       "    </tr>\n",
       "    <tr>\n",
       "      <th>207</th>\n",
       "      <td>0.204091</td>\n",
       "      <td>0.124896</td>\n",
       "      <td>0.681165</td>\n",
       "      <td>1.762008</td>\n",
       "      <td>1</td>\n",
       "    </tr>\n",
       "    <tr>\n",
       "      <th>208</th>\n",
       "      <td>0.206771</td>\n",
       "      <td>0.140783</td>\n",
       "      <td>0.805243</td>\n",
       "      <td>1.889473</td>\n",
       "      <td>1</td>\n",
       "    </tr>\n",
       "    <tr>\n",
       "      <th>209</th>\n",
       "      <td>0.151370</td>\n",
       "      <td>0.140783</td>\n",
       "      <td>0.813292</td>\n",
       "      <td>1.889473</td>\n",
       "      <td>1</td>\n",
       "    </tr>\n",
       "    <tr>\n",
       "      <th>210</th>\n",
       "      <td>0.291406</td>\n",
       "      <td>0.171227</td>\n",
       "      <td>0.652668</td>\n",
       "      <td>1.759256</td>\n",
       "      <td>1</td>\n",
       "    </tr>\n",
       "  </tbody>\n",
       "</table>\n",
       "<p>211 rows × 5 columns</p>\n",
       "</div>"
      ],
      "text/plain": [
       "     distance_pos  distance_neg  adapted_distance_pos  adapted_distance_neg  \\\n",
       "0        0.227689      0.193694              0.737273              1.829253   \n",
       "1        0.253759      0.142795              0.181191              1.394231   \n",
       "2        0.307285      0.171227              0.480764              1.759256   \n",
       "3        0.225380      0.198195              0.572937              1.661588   \n",
       "4        0.297195      0.161455              0.694121              1.839455   \n",
       "..            ...           ...                   ...                   ...   \n",
       "206      0.246686      0.114108              0.823098              1.875909   \n",
       "207      0.204091      0.124896              0.681165              1.762008   \n",
       "208      0.206771      0.140783              0.805243              1.889473   \n",
       "209      0.151370      0.140783              0.813292              1.889473   \n",
       "210      0.291406      0.171227              0.652668              1.759256   \n",
       "\n",
       "     res  \n",
       "0      1  \n",
       "1      1  \n",
       "2      1  \n",
       "3      1  \n",
       "4      1  \n",
       "..   ...  \n",
       "206    1  \n",
       "207    1  \n",
       "208    1  \n",
       "209    1  \n",
       "210    1  \n",
       "\n",
       "[211 rows x 5 columns]"
      ]
     },
     "execution_count": 53,
     "metadata": {},
     "output_type": "execute_result"
    }
   ],
   "source": [
    "result"
   ]
  },
  {
   "cell_type": "code",
   "execution_count": 55,
   "metadata": {},
   "outputs": [
    {
     "data": {
      "text/plain": [
       "res\n",
       "1    211\n",
       "Name: count, dtype: int64"
      ]
     },
     "execution_count": 55,
     "metadata": {},
     "output_type": "execute_result"
    }
   ],
   "source": [
    "result[\"res\"].value_counts()"
   ]
  },
  {
   "cell_type": "code",
   "execution_count": null,
   "metadata": {},
   "outputs": [],
   "source": []
  }
 ],
 "metadata": {
  "kernelspec": {
   "display_name": "myenv",
   "language": "python",
   "name": "python3"
  },
  "language_info": {
   "codemirror_mode": {
    "name": "ipython",
    "version": 3
   },
   "file_extension": ".py",
   "mimetype": "text/x-python",
   "name": "python",
   "nbconvert_exporter": "python",
   "pygments_lexer": "ipython3",
   "version": "3.8.19"
  }
 },
 "nbformat": 4,
 "nbformat_minor": 2
}
