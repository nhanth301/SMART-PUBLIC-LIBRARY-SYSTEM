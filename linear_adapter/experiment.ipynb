{
 "cells": [
  {
   "cell_type": "code",
   "execution_count": 56,
   "metadata": {},
   "outputs": [],
   "source": [
    "import random\n",
    "import torch\n",
    "from torch import nn\n",
    "from torch.utils.data import Dataset, DataLoader\n",
    "from torch.optim import AdamW\n",
    "from torch.optim.lr_scheduler import LambdaLR\n",
    "from torch.nn.utils import clip_grad_norm_\n",
    "import torch.nn.functional as F\n",
    "import pandas as pd\n",
    "import json\n",
    "import matplotlib.pyplot as plt"
   ]
  },
  {
   "cell_type": "code",
   "execution_count": 57,
   "metadata": {},
   "outputs": [],
   "source": [
    "df = pd.read_csv('triplet.csv')"
   ]
  },
  {
   "cell_type": "code",
   "execution_count": null,
   "metadata": {},
   "outputs": [],
   "source": [
    "class LinearAdapter(nn.Module):\n",
    "    def __init__(self, input_dim):\n",
    "        super().__init__()\n",
    "        self.linear = nn.Linear(input_dim, input_dim)\n",
    "\n",
    "    def forward(self, x):\n",
    "        return self.linear(x)"
   ]
  },
  {
   "cell_type": "code",
   "execution_count": 69,
   "metadata": {},
   "outputs": [],
   "source": [
    "class TripletDataset(Dataset):\n",
    "    def __init__(self, data):\n",
    "        self.anchors = data[\"anchor\"].values\n",
    "        self.positives = data[\"pos\"].values\n",
    "        self.negatives = data[\"neg\"].values\n",
    "\n",
    "    def __len__(self):\n",
    "        return len(self.anchors)\n",
    "\n",
    "    def __getitem__(self, idx):\n",
    "        anchor = torch.tensor(json.loads(self.anchors[idx]))\n",
    "        pos = torch.tensor(json.loads(self.positives[idx]))\n",
    "        neg = torch.tensor(json.loads(self.negatives[idx]))\n",
    "           \n",
    "        return anchor, pos, neg"
   ]
  },
  {
   "cell_type": "code",
   "execution_count": 76,
   "metadata": {},
   "outputs": [],
   "source": [
    "def get_linear_schedule_with_warmup(optimizer, num_warmup_steps, num_training_steps):\n",
    "    def lr_lambda(current_step):\n",
    "        if current_step < num_warmup_steps:\n",
    "            return float(current_step) / float(max(1, num_warmup_steps))\n",
    "        return max(0.0, float(num_training_steps - current_step) / float(max(1, num_training_steps - num_warmup_steps)))\n",
    "    return LambdaLR(optimizer, lr_lambda)\n",
    "\n",
    "def train_linear_adapter(train_data, num_epochs=10, batch_size=32, \n",
    "                         learning_rate=2e-5, warmup_steps=100, max_grad_norm=1.0, margin=1.0):\n",
    "    device = torch.device(\"cuda\" if torch.cuda.is_available() else \"cpu\")\n",
    "    \n",
    "    adapter = LinearAdapter(768).to(device)\n",
    "\n",
    "    triplet_loss = nn.TripletMarginWithDistanceLoss(distance_function=lambda x, y: 1.0 - F.cosine_similarity(x, y), margin=margin)\n",
    "    optimizer = AdamW(adapter.parameters(), lr=learning_rate)\n",
    "\n",
    "    dataset = TripletDataset(train_data)\n",
    "    dataloader = DataLoader(dataset, batch_size=batch_size, shuffle=True)\n",
    "    \n",
    "    total_steps = len(dataloader) * num_epochs\n",
    "    \n",
    "    scheduler = get_linear_schedule_with_warmup(optimizer, num_warmup_steps=warmup_steps, num_training_steps=total_steps)\n",
    "    losses = []\n",
    "    \n",
    "    for epoch in range(num_epochs):\n",
    "        total_loss = 0\n",
    "        for batch in dataloader:\n",
    "            anchor_emb, positive_emb, negative_emb = [x.to(device) for x in batch]\n",
    "            \n",
    "            # Forward pass\n",
    "            adapted_anchor_emb = adapter(anchor_emb)\n",
    "            adapted_pos_emb = adapter(positive_emb)\n",
    "            adapted_neg_emb = adapter(negative_emb)\n",
    "            \n",
    "            # Compute loss\n",
    "            loss = triplet_loss(adapted_anchor_emb, adapted_pos_emb, adapted_neg_emb)\n",
    "            \n",
    "            # Backward pass and optimization\n",
    "            optimizer.zero_grad()\n",
    "            loss.backward()\n",
    "            \n",
    "            # Gradient clipping\n",
    "            clip_grad_norm_(adapter.parameters(), max_grad_norm)\n",
    "            \n",
    "            optimizer.step()\n",
    "            scheduler.step()\n",
    "            \n",
    "            total_loss += loss.item()\n",
    "        \n",
    "        l = total_loss/len(dataloader)\n",
    "        print(f\"Epoch {epoch+1}/{num_epochs}, Loss: {l:.4f}\")\n",
    "        losses.append(l)\n",
    "\n",
    "    \n",
    "    return adapter, losses"
   ]
  },
  {
   "cell_type": "code",
   "execution_count": 77,
   "metadata": {},
   "outputs": [
    {
     "name": "stdout",
     "output_type": "stream",
     "text": [
      "Epoch 1/30, Loss: 1.0524\n",
      "Epoch 2/30, Loss: 1.0161\n",
      "Epoch 3/30, Loss: 0.9812\n",
      "Epoch 4/30, Loss: 0.9363\n",
      "Epoch 5/30, Loss: 0.6612\n",
      "Epoch 6/30, Loss: 0.4183\n",
      "Epoch 7/30, Loss: 0.2638\n",
      "Epoch 8/30, Loss: 0.1792\n",
      "Epoch 9/30, Loss: 0.1218\n",
      "Epoch 10/30, Loss: 0.0758\n",
      "Epoch 11/30, Loss: 0.0612\n",
      "Epoch 12/30, Loss: 0.0451\n",
      "Epoch 13/30, Loss: 0.0265\n",
      "Epoch 14/30, Loss: 0.0174\n",
      "Epoch 15/30, Loss: 0.0133\n",
      "Epoch 16/30, Loss: 0.0139\n",
      "Epoch 17/30, Loss: 0.0167\n",
      "Epoch 18/30, Loss: 0.0063\n",
      "Epoch 19/30, Loss: 0.0036\n",
      "Epoch 20/30, Loss: 0.0028\n",
      "Epoch 21/30, Loss: 0.0030\n",
      "Epoch 22/30, Loss: 0.0026\n",
      "Epoch 23/30, Loss: 0.0020\n",
      "Epoch 24/30, Loss: 0.0007\n",
      "Epoch 25/30, Loss: 0.0010\n",
      "Epoch 26/30, Loss: 0.0039\n",
      "Epoch 27/30, Loss: 0.0034\n",
      "Epoch 28/30, Loss: 0.0023\n",
      "Epoch 29/30, Loss: 0.0008\n",
      "Epoch 30/30, Loss: 0.0001\n"
     ]
    }
   ],
   "source": [
    "# Define the kwargs dictionary\n",
    "adapter_kwargs = {\n",
    "    'num_epochs': 30,\n",
    "    'batch_size': 64,\n",
    "    'learning_rate': 0.005,\n",
    "    'warmup_steps': 100,\n",
    "    'max_grad_norm': 1.0,\n",
    "    'margin': 1.0\n",
    "}\n",
    "\n",
    "# Train the adapter using the kwargs dictionary\n",
    "trained_adapter, losses = train_linear_adapter(df, **adapter_kwargs)\n",
    "\n",
    "# Create a dictionary to store both the adapter state_dict and the kwargs\n",
    "save_dict = {\n",
    "    'adapter_state_dict': trained_adapter.state_dict(),\n",
    "    'adapter_kwargs': adapter_kwargs\n",
    "}\n",
    "\n",
    "# Save the combined dictionary\n",
    "torch.save(save_dict, f'non_linear_adapter_30_epochs.pth')"
   ]
  },
  {
   "cell_type": "code",
   "execution_count": 78,
   "metadata": {},
   "outputs": [
    {
     "data": {
      "text/plain": [
       "Text(0, 0.5, 'Loss')"
      ]
     },
     "execution_count": 78,
     "metadata": {},
     "output_type": "execute_result"
    },
    {
     "data": {
      "image/png": "[encoded data removed]",
      "text/plain": [
       "<Figure size 640x480 with 1 Axes>"
      ]
     },
     "metadata": {},
     "output_type": "display_data"
    }
   ],
   "source": [
    "plt.plot(losses)\n",
    "plt.xlabel(\"Epochs\")\n",
    "plt.ylabel(\"Loss\")"
   ]
  },
  {
   "cell_type": "code",
   "execution_count": null,
   "metadata": {},
   "outputs": [],
   "source": []
  }
 ],
 "metadata": {
  "kernelspec": {
   "display_name": "myenv",
   "language": "python",
   "name": "python3"
  },
  "language_info": {
   "codemirror_mode": {
    "name": "ipython",
    "version": 3
   },
   "file_extension": ".py",
   "mimetype": "text/x-python",
   "name": "python",
   "nbconvert_exporter": "python",
   "pygments_lexer": "ipython3",
   "version": "3.8.19"
  }
 },
 "nbformat": 4,
 "nbformat_minor": 2
}
